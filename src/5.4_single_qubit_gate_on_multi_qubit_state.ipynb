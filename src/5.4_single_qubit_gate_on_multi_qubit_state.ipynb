{
 "cells": [
  {
   "attachments": {
    "5d6b0926-3a4d-479e-83f9-91a1249c19df.png": {
     "image/png": "[encoded data removed]"
    },
    "e81a09e9-ed1e-4020-a0ee-5c687a29f458.png": {
     "image/png": "[encoded data removed]"
    }
   },
   "cell_type": "markdown",
   "id": "c8360697-4ae4-4d5e-863a-c81361aceeea",
   "metadata": {},
   "source": [
    "### Single Qubit Gates on Multi-Qubit Statevectors\n",
    "We know that  X gate is represented by the matrix:\n",
    "\n",
    " ![image.png](attachment:5d6b0926-3a4d-479e-83f9-91a1249c19df.png)\n",
    "\n",
    "and when it acts on the 〈0| , it becomes:\n",
    "\n",
    " ![image.png](attachment:e81a09e9-ed1e-4020-a0ee-5c687a29f458.png)"
   ]
  },
  {
   "cell_type": "code",
   "execution_count": 1,
   "id": "ada7fba6-4c8e-476e-84cb-e6d0c0507c2e",
   "metadata": {},
   "outputs": [],
   "source": [
    "from qiskit import QuantumCircuit\n",
    "from qiskit.visualization import plot_histogram\n",
    "from qiskit_aer import AerSimulator\n",
    "from IPython.display import display"
   ]
  },
  {
   "cell_type": "code",
   "execution_count": null,
   "id": "a68ceafd-e72d-4b20-8418-5014446d8c7c",
   "metadata": {},
   "outputs": [],
   "source": []
  },
  {
   "cell_type": "code",
   "execution_count": null,
   "id": "b5d4108d-9574-4a74-8dbd-4d76a9dae0a9",
   "metadata": {},
   "outputs": [],
   "source": []
  },
  {
   "cell_type": "code",
   "execution_count": 4,
   "id": "7bfed4f0-578d-4d08-bf1a-a8ef8b3ec51c",
   "metadata": {},
   "outputs": [
    {
     "data": {
      "image/png": "[encoded data removed]",
      "text/plain": [
       "<Figure size 203.683x200.667 with 1 Axes>"
      ]
     },
     "execution_count": 4,
     "metadata": {},
     "output_type": "execute_result"
    }
   ],
   "source": [
    "qc = QuantumCircuit(2)\n",
    "qc.h(0)\n",
    "qc.x(1)\n",
    "qc.draw('mpl')"
   ]
  },
  {
   "cell_type": "code",
   "execution_count": null,
   "id": "b57262bb-a137-4d79-9cdf-0d550a8c54c9",
   "metadata": {},
   "outputs": [],
   "source": []
  },
  {
   "attachments": {
    "41bf8559-a9aa-4301-ba11-0f204c6cae54.png": {
     "image/png": "[encoded data removed]"
    },
    "6e2cd397-f55d-4357-8477-03f59f0ba6ce.png": {
     "image/png": "[encoded data removed]"
    },
    "f68f555d-fa5f-4054-935d-1e7c1bd6a140.png": {
     "image/png": "[encoded data removed]"
    }
   },
   "cell_type": "markdown",
   "id": "8cefbe49-1ca3-4fbc-a766-950fa55fa8c2",
   "metadata": {},
   "source": [
    "we can represent the simultaneous operations (H & X) using their kronecker product:\n",
    "![image.png](attachment:6e2cd397-f55d-4357-8477-03f59f0ba6ce.png)\n",
    "\n",
    "It produced\n",
    "![image.png](attachment:41bf8559-a9aa-4301-ba11-0f204c6cae54.png)\n",
    "Which we can then apply to our 4D statevector. This can become quite messy, you will often see the clearer notation\n",
    "![image.png](attachment:f68f555d-fa5f-4054-935d-1e7c1bd6a140.png)\n",
    "Instead of calculating this by hand, we can use Qiskit’s aer_simulator to calculate this for us. The Aer simulator multiplies all the gates in our circuit together to compile a single unitary matrix that performs the whole quantum circuit:"
   ]
  },
  {
   "cell_type": "code",
   "execution_count": 5,
   "id": "26a5f7fd-fbd2-4407-8775-f6dc482baac4",
   "metadata": {},
   "outputs": [
    {
     "name": "stdout",
     "output_type": "stream",
     "text": [
      "[[ 0.        +0.j  0.        +0.j  0.70710678+0.j  0.70710678+0.j]\n",
      " [ 0.        +0.j  0.        +0.j  0.70710678+0.j -0.70710678+0.j]\n",
      " [ 0.70710678+0.j  0.70710678+0.j  0.        +0.j  0.        +0.j]\n",
      " [ 0.70710678+0.j -0.70710678+0.j  0.        +0.j  0.        +0.j]]\n"
     ]
    }
   ],
   "source": [
    "from qiskit.quantum_info import Operator\n",
    "operator = Operator(qc)\n",
    "print(operator.data)"
   ]
  },
  {
   "cell_type": "code",
   "execution_count": 5,
   "id": "85b34e40-fd3c-437b-a94b-ab035172d19e",
   "metadata": {},
   "outputs": [
    {
     "data": {
      "text/latex": [
       "$$\n",
       "\\text{Circuit = }\n",
       "\n",
       "\\begin{bmatrix}\n",
       "0 & 0 & \\frac{\\sqrt{2}}{2} & \\frac{\\sqrt{2}}{2}  \\\\\n",
       " 0 & 0 & \\frac{\\sqrt{2}}{2} & - \\frac{\\sqrt{2}}{2}  \\\\\n",
       " \\frac{\\sqrt{2}}{2} & \\frac{\\sqrt{2}}{2} & 0 & 0  \\\\\n",
       " \\frac{\\sqrt{2}}{2} & - \\frac{\\sqrt{2}}{2} & 0 & 0  \\\\\n",
       " \\end{bmatrix}\n",
       "$$"
      ],
      "text/plain": [
       "<IPython.core.display.Latex object>"
      ]
     },
     "execution_count": 5,
     "metadata": {},
     "output_type": "execute_result"
    }
   ],
   "source": [
    "# array_to_latex function and use print(unitary) instead.\n",
    "from qiskit.visualization import array_to_latex\n",
    "array_to_latex(operator.data, prefix=\"\\\\text{Circuit = }\\n\")"
   ]
  },
  {
   "cell_type": "code",
   "execution_count": null,
   "id": "d529c3c5-b5a4-44dc-8bba-0c3ae33041ba",
   "metadata": {},
   "outputs": [],
   "source": []
  }
 ],
 "metadata": {
  "kernelspec": {
   "display_name": "Python (Qiskit)",
   "language": "python",
   "name": "qiskit_env"
  },
  "language_info": {
   "codemirror_mode": {
    "name": "ipython",
    "version": 3
   },
   "file_extension": ".py",
   "mimetype": "text/x-python",
   "name": "python",
   "nbconvert_exporter": "python",
   "pygments_lexer": "ipython3",
   "version": "3.10.18"
  }
 },
 "nbformat": 4,
 "nbformat_minor": 5
}
