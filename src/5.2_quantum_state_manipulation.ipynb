{
 "cells": [
  {
   "cell_type": "markdown",
   "id": "fe1919c0-9f80-40de-8895-d2f2515167a7",
   "metadata": {},
   "source": [
    "## 5.2 Quantum state manipulation and simulation with Qiskit\n",
    "### circuit creation\n",
    "A quantum circuit defines a sequence of operations (quantum gates) applied to qubits, which are the quantum analogs of classical bits. In this context, we start by creating a simple quantum circuit with a single qubit. The quantum circuit is initialized to the state ∣0⟩, which is the standard basis state of the qubit"
   ]
  },
  {
   "cell_type": "code",
   "execution_count": 1,
   "id": "352a05cf-4423-4f8a-a6ea-72cc50b3a6c5",
   "metadata": {},
   "outputs": [],
   "source": [
    "from qiskit import QuantumCircuit, QuantumRegister, ClassicalRegister\n",
    "from qiskit_aer import AerSimulator\n",
    "from qiskit import *\n",
    "from qiskit.visualization import plot_histogram, plot_bloch_vector\n",
    "from math import sqrt, pi\n",
    "from qiskit.quantum_info import Statevector"
   ]
  },
  {
   "cell_type": "code",
   "execution_count": 4,
   "id": "9203004f-0144-465d-8668-5fd7aa26dfb1",
   "metadata": {},
   "outputs": [
    {
     "data": {
      "image/png": "[encoded data removed]",
      "text/plain": [
       "<Figure size 143.647x117.056 with 1 Axes>"
      ]
     },
     "execution_count": 4,
     "metadata": {},
     "output_type": "execute_result"
    }
   ],
   "source": [
    "qc = QuantumCircuit(1)    # Create a quantum circuit with one qubit\n",
    "qc.draw(\"mpl\")\n"
   ]
  },
  {
   "cell_type": "markdown",
   "id": "b4a14fbd-c986-48d1-9214-97c846eed1b0",
   "metadata": {},
   "source": [
    "### Initializing Quantum States:\n",
    "Quantum states can be manipulated using the initialize method, which allows setting the initial state of the qubit to a superposition or any other desired state."
   ]
  },
  {
   "cell_type": "code",
   "execution_count": 3,
   "id": "407f4c60-0c82-433c-9d36-a0a806f79853",
   "metadata": {},
   "outputs": [
    {
     "data": {
      "image/png": "[encoded data removed]",
      "text/plain": [
       "<Figure size 185.453x117.056 with 1 Axes>"
      ]
     },
     "execution_count": 3,
     "metadata": {},
     "output_type": "execute_result"
    }
   ],
   "source": [
    "qc.initialize([1,0])  # Define initial_state as |0>\n",
    "qc.draw('mpl')"
   ]
  },
  {
   "cell_type": "markdown",
   "id": "95eb481b-53f6-43ce-898f-b26f8b21a9b9",
   "metadata": {},
   "source": [
    "Alternatively, we can initialize the qubit in state ∣1⟩ by passing the state vector [■(0@1)]"
   ]
  },
  {
   "cell_type": "code",
   "execution_count": 4,
   "id": "7ae0767d-99e5-4b5a-a5be-d59720bf51a0",
   "metadata": {},
   "outputs": [
    {
     "data": {
      "image/png": "[encoded data removed]",
      "text/plain": [
       "<Figure size 269.064x117.056 with 1 Axes>"
      ]
     },
     "execution_count": 4,
     "metadata": {},
     "output_type": "execute_result"
    }
   ],
   "source": [
    "initial_state = [0,1]   # This is the |1> state\n",
    "qc.initialize(initial_state,0)  # Apply the initialization on the qubit\n",
    "qc.draw('mpl')\n"
   ]
  },
  {
   "cell_type": "code",
   "execution_count": 8,
   "id": "1570d1b5-5f17-49ec-b2d0-2b0c92be89b9",
   "metadata": {},
   "outputs": [
    {
     "data": {
      "text/plain": [
       "('automatic',\n",
       " 'statevector',\n",
       " 'density_matrix',\n",
       " 'stabilizer',\n",
       " 'matrix_product_state',\n",
       " 'extended_stabilizer',\n",
       " 'unitary',\n",
       " 'superop')"
      ]
     },
     "execution_count": 8,
     "metadata": {},
     "output_type": "execute_result"
    }
   ],
   "source": [
    "backend = AerSimulator()  # tell qiskit to use the AerSimulator\n",
    "backend.available_devices()\n",
    "backend.available_methods()"
   ]
  },
  {
   "cell_type": "markdown",
   "id": "cf9f4f7d-ef6a-40e9-b486-001cd140ed33",
   "metadata": {},
   "source": [
    "After initializing and running the circuit, we obtain the statevector, which describes the quantum state of the system. The statevector contains the probability amplitudes of all possible states of the quantum system."
   ]
  },
  {
   "cell_type": "code",
   "execution_count": 7,
   "id": "22fef959-3218-4bec-836e-42a305d5d34a",
   "metadata": {},
   "outputs": [
    {
     "name": "stdout",
     "output_type": "stream",
     "text": [
      "Statevector([1.+0.j, 0.+0.j],\n",
      "            dims=(2,))\n"
     ]
    }
   ],
   "source": [
    "from qiskit.quantum_info import Statevector\n",
    "\n",
    "# get the statevcector\n",
    "state = Statevector.from_instruction(qc)\n",
    "print(state)"
   ]
  },
  {
   "cell_type": "markdown",
   "id": "50200123-8366-4acd-a5ad-675b3b8b79d1",
   "metadata": {},
   "source": [
    "A qubit can be in a superposition of both ∣0⟩ and ∣1⟩ meaning it simultaneously exists in both states. In this part, we initialize the qubit in an equal superposition state:"
   ]
  },
  {
   "cell_type": "code",
   "execution_count": 8,
   "id": "559ff184-c3f8-494b-b3b8-3ff56374e3fb",
   "metadata": {},
   "outputs": [
    {
     "data": {
      "image/png": "[encoded data removed]",
      "text/plain": [
       "<Figure size 269.064x117.056 with 1 Axes>"
      ]
     },
     "execution_count": 8,
     "metadata": {},
     "output_type": "execute_result"
    }
   ],
   "source": [
    "qc1 = QuantumCircuit(1)\n",
    "initial_state = [1/sqrt(2), 1j/sqrt(2)]  # Define state |q_0>\n",
    "qc1.initialize(initial_state,0)  # Apply the initialization on the qubit\n",
    "qc1.draw('mpl')\n"
   ]
  },
  {
   "cell_type": "markdown",
   "id": "2eaaf65e-a318-40a6-a127-0b4b1530fd66",
   "metadata": {},
   "source": [
    "This state corresponds to a balanced superposition of ∣0⟩ and ∣1⟩, with a phase difference."
   ]
  },
  {
   "cell_type": "code",
   "execution_count": 9,
   "id": "4fb4a457-0dfe-4b7d-8150-7ef551d5609f",
   "metadata": {},
   "outputs": [
    {
     "name": "stdout",
     "output_type": "stream",
     "text": [
      "Statevector([0.70710678+0.j        , 0.        +0.70710678j],\n",
      "            dims=(2,))\n"
     ]
    },
    {
     "data": {
      "image/png": "[encoded data removed]",
      "text/plain": [
       "<Figure size 496.776x200.667 with 1 Axes>"
      ]
     },
     "execution_count": 9,
     "metadata": {},
     "output_type": "execute_result"
    }
   ],
   "source": [
    "state = Statevector.from_instruction(qc1)\n",
    "print(state)\n",
    "qc1.measure_all()\n",
    "qc1.draw('mpl')"
   ]
  },
  {
   "cell_type": "code",
   "execution_count": 20,
   "id": "b4e756d7-1c17-49ba-a957-e9cec288e48e",
   "metadata": {},
   "outputs": [
    {
     "ename": "ModuleNotFoundError",
     "evalue": "No module named 'qiskit_textbook'",
     "output_type": "error",
     "traceback": [
      "\u001b[1;31m---------------------------------------------------------------------------\u001b[0m",
      "\u001b[1;31mModuleNotFoundError\u001b[0m                       Traceback (most recent call last)",
      "Cell \u001b[1;32mIn[20], line 1\u001b[0m\n\u001b[1;32m----> 1\u001b[0m \u001b[38;5;28;01mfrom\u001b[39;00m\u001b[38;5;250m \u001b[39m\u001b[38;5;21;01mqiskit_textbook\u001b[39;00m\u001b[38;5;21;01m.\u001b[39;00m\u001b[38;5;21;01mwidgets\u001b[39;00m\u001b[38;5;250m \u001b[39m\u001b[38;5;28;01mimport\u001b[39;00m bloch_calc\n\u001b[0;32m      2\u001b[0m bloch_calc()\n\u001b[0;32m      3\u001b[0m \u001b[38;5;28;01mimport\u001b[39;00m\u001b[38;5;250m \u001b[39m\u001b[38;5;21;01mqiskit\u001b[39;00m\u001b[38;5;21;01m.\u001b[39;00m\u001b[38;5;21;01mtools\u001b[39;00m\u001b[38;5;21;01m.\u001b[39;00m\u001b[38;5;21;01mjupyter\u001b[39;00m\n",
      "\u001b[1;31mModuleNotFoundError\u001b[0m: No module named 'qiskit_textbook'"
     ]
    }
   ],
   "source": [
    "  "
   ]
  },
  {
   "cell_type": "code",
   "execution_count": 1,
   "id": "a88e44f8-2244-4ef3-a7fc-cdd46a253fe7",
   "metadata": {},
   "outputs": [
    {
     "name": "stdout",
     "output_type": "stream",
     "text": [
      "qiskit: 2.1.1\n",
      "cannot import name 'terra_version' from 'qiskit.version' (C:\\Users\\MSI\\miniconda3\\envs\\qiskit_env\\lib\\site-packages\\qiskit\\version.py)\n"
     ]
    }
   ],
   "source": [
    "import qiskit\n",
    "print(\"qiskit:\", qiskit.__version__)\n",
    "try:\n",
    "    from qiskit.version import terra_version, aer_version\n",
    "    print(\"terra:\", terra_version)\n",
    "    print(\"aer:\", aer_version)\n",
    "except Exception as e:\n",
    "    print(e)\n"
   ]
  },
  {
   "cell_type": "code",
   "execution_count": null,
   "id": "9372e44a-86d6-4908-ade1-b82a86f1bd89",
   "metadata": {},
   "outputs": [],
   "source": []
  }
 ],
 "metadata": {
  "kernelspec": {
   "display_name": "Python 3 (ipykernel)",
   "language": "python",
   "name": "python3"
  },
  "language_info": {
   "codemirror_mode": {
    "name": "ipython",
    "version": 3
   },
   "file_extension": ".py",
   "mimetype": "text/x-python",
   "name": "python",
   "nbconvert_exporter": "python",
   "pygments_lexer": "ipython3",
   "version": "3.10.18"
  }
 },
 "nbformat": 4,
 "nbformat_minor": 5
}
