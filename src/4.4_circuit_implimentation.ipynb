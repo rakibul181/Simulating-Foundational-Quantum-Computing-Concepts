{
 "cells": [
  {
   "cell_type": "markdown",
   "id": "a7a5f9e0-ef8c-4f9e-b02f-4639904ee071",
   "metadata": {},
   "source": [
    "## 4.4 Circuit Implementation using Qiskit\n",
    "In Qiskit, quantum circuits are created using the QuantumCircuit class. Quantum gates are applied as methods to specific qubit indices. Below is an example of a simple quantum circuit that applies a Hadamard gate followed by a CNOT gate:\n",
    "\n",
    "This code creates a circuit that generates entangled qubits and measures both qubits. The Hadamard gate creates a superposition state on the first qubit, while the CNOT gate entangles it with the second qubit. The measurement operation extracts classical information from the quantum system "
   ]
  },
  {
   "cell_type": "code",
   "execution_count": 3,
   "id": "c5f7619a-6a87-4d3f-b7ca-d5f495946163",
   "metadata": {},
   "outputs": [
    {
     "data": {
      "image/png": "[encoded data removed]",
      "text/plain": [
       "<Figure size 580.387x367.889 with 1 Axes>"
      ]
     },
     "execution_count": 3,
     "metadata": {},
     "output_type": "execute_result"
    }
   ],
   "source": [
    "from qiskit import QuantumCircuit\n",
    "\n",
    "# Create a quantum circuit with 2 qubits and 2 classical bits\n",
    "qc = QuantumCircuit(2, 2)\n",
    "\n",
    "# Apply a Hadamard gate on the first qubit\n",
    "qc.h(0)\n",
    "\n",
    "# Apply a CNOT gate (control=0, target=1)\n",
    "qc.cx(0, 1)\n",
    "\n",
    "# Add measurements to both qubits\n",
    "qc.measure_all()\n",
    "\n",
    "# Draw the circuit\n",
    "qc.draw('mpl')"
   ]
  },
  {
   "cell_type": "code",
   "execution_count": 17,
   "id": "0f977390-632c-468a-9139-e38a28a10b37",
   "metadata": {},
   "outputs": [
    {
     "name": "stderr",
     "output_type": "stream",
     "text": [
      "UsageError: Line magic function `%qiskit_version_table` not found.\n"
     ]
    }
   ],
   "source": [
    "import qiskit\n",
    " "
   ]
  },
  {
   "cell_type": "code",
   "execution_count": null,
   "id": "c766b57b-d201-423a-b780-1e7d957dd93b",
   "metadata": {},
   "outputs": [],
   "source": []
  },
  {
   "cell_type": "code",
   "execution_count": null,
   "id": "42901c8c-70e2-42ef-a4d8-a8fcd55141cb",
   "metadata": {},
   "outputs": [],
   "source": []
  },
  {
   "cell_type": "code",
   "execution_count": null,
   "id": "d1fa1107-93f9-4878-87f2-c178df01437a",
   "metadata": {},
   "outputs": [],
   "source": []
  },
  {
   "cell_type": "code",
   "execution_count": null,
   "id": "225c2dbe-dfb0-4418-a1e6-4389508277e1",
   "metadata": {},
   "outputs": [],
   "source": []
  }
 ],
 "metadata": {
  "kernelspec": {
   "display_name": "Python 3 (ipykernel)",
   "language": "python",
   "name": "python3"
  },
  "language_info": {
   "codemirror_mode": {
    "name": "ipython",
    "version": 3
   },
   "file_extension": ".py",
   "mimetype": "text/x-python",
   "name": "python",
   "nbconvert_exporter": "python",
   "pygments_lexer": "ipython3",
   "version": "3.10.18"
  }
 },
 "nbformat": 4,
 "nbformat_minor": 5
}
